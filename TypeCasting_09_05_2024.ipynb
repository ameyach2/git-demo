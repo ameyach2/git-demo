{
  "cells": [
    {
      "cell_type": "code",
      "execution_count": null,
      "id": "d7975902",
      "metadata": {
        "id": "d7975902"
      },
      "outputs": [],
      "source": [
        "type casting:\n",
        "    conversion of one data type to another data type"
      ]
    },
    {
      "cell_type": "code",
      "execution_count": null,
      "id": "4feb1603",
      "metadata": {
        "id": "4feb1603",
        "outputId": "acbce8d8-079a-45c3-ddda-785b5ec18705"
      },
      "outputs": [
        {
          "name": "stdout",
          "output_type": "stream",
          "text": [
            "Enter the number:10\n",
            "Enter the second number:30\n",
            "Addition of 10 and 30 is 40\n"
          ]
        }
      ],
      "source": [
        "a = int(input(\"Enter the number:\"))\n",
        "b = int(input(\"Enter the second number:\"))\n",
        "c = a+b\n",
        "print(\"Addition of {} and {} is {}\".format(a,b,c))"
      ]
    },
    {
      "cell_type": "code",
      "execution_count": null,
      "id": "c88a535e",
      "metadata": {
        "id": "c88a535e",
        "outputId": "1096b726-73df-43a4-dc3b-e512699b4674"
      },
      "outputs": [
        {
          "data": {
            "text/plain": [
              "10"
            ]
          },
          "execution_count": 4,
          "metadata": {},
          "output_type": "execute_result"
        }
      ],
      "source": [
        "int(a)"
      ]
    },
    {
      "cell_type": "code",
      "execution_count": null,
      "id": "ee3f1ad0",
      "metadata": {
        "id": "ee3f1ad0"
      },
      "outputs": [],
      "source": [
        "p1 = '26216'"
      ]
    },
    {
      "cell_type": "code",
      "execution_count": null,
      "id": "01f1d78d",
      "metadata": {
        "id": "01f1d78d"
      },
      "outputs": [],
      "source": [
        "p1 = int(p1)"
      ]
    },
    {
      "cell_type": "code",
      "execution_count": null,
      "id": "f7216c23",
      "metadata": {
        "id": "f7216c23",
        "outputId": "354c1635-dd2a-4888-ac1d-465b74610cb5"
      },
      "outputs": [
        {
          "data": {
            "text/plain": [
              "26216"
            ]
          },
          "execution_count": 9,
          "metadata": {},
          "output_type": "execute_result"
        }
      ],
      "source": [
        "p1"
      ]
    },
    {
      "cell_type": "code",
      "execution_count": null,
      "id": "e1cef37e",
      "metadata": {
        "id": "e1cef37e"
      },
      "outputs": [],
      "source": [
        "p1 = 12.25"
      ]
    },
    {
      "cell_type": "code",
      "execution_count": null,
      "id": "4fd1872a",
      "metadata": {
        "id": "4fd1872a",
        "outputId": "412ad814-4312-4865-9185-bc0cb7271f56"
      },
      "outputs": [
        {
          "data": {
            "text/plain": [
              "12"
            ]
          },
          "execution_count": 11,
          "metadata": {},
          "output_type": "execute_result"
        }
      ],
      "source": [
        "int(p1)"
      ]
    },
    {
      "cell_type": "code",
      "execution_count": null,
      "id": "331a776e",
      "metadata": {
        "id": "331a776e"
      },
      "outputs": [],
      "source": [
        "p = 125"
      ]
    },
    {
      "cell_type": "code",
      "execution_count": null,
      "id": "c7d7bba8",
      "metadata": {
        "id": "c7d7bba8",
        "outputId": "5195f2d3-8cd8-485e-a57c-ee473d8d7f50"
      },
      "outputs": [
        {
          "data": {
            "text/plain": [
              "'125'"
            ]
          },
          "execution_count": 13,
          "metadata": {},
          "output_type": "execute_result"
        }
      ],
      "source": [
        "str(p)"
      ]
    },
    {
      "cell_type": "code",
      "execution_count": null,
      "id": "5b15b537",
      "metadata": {
        "id": "5b15b537"
      },
      "outputs": [],
      "source": [
        "int -- str,float\n",
        "str - num - int,float"
      ]
    },
    {
      "cell_type": "code",
      "execution_count": null,
      "id": "d2fa3e21",
      "metadata": {
        "id": "d2fa3e21"
      },
      "outputs": [],
      "source": [
        "p1 = '45.96'"
      ]
    },
    {
      "cell_type": "code",
      "execution_count": null,
      "id": "91f05d2b",
      "metadata": {
        "id": "91f05d2b",
        "outputId": "2c9ea042-1a41-4119-9193-31e59218394d"
      },
      "outputs": [
        {
          "data": {
            "text/plain": [
              "45"
            ]
          },
          "execution_count": 17,
          "metadata": {},
          "output_type": "execute_result"
        }
      ],
      "source": [
        "int(float(p1))"
      ]
    },
    {
      "cell_type": "code",
      "execution_count": null,
      "id": "10c03bb1",
      "metadata": {
        "id": "10c03bb1"
      },
      "outputs": [],
      "source": [
        "float str  int"
      ]
    },
    {
      "cell_type": "code",
      "execution_count": null,
      "id": "f235f087",
      "metadata": {
        "id": "f235f087"
      },
      "outputs": [],
      "source": [
        "str --> float --> int"
      ]
    },
    {
      "cell_type": "code",
      "execution_count": null,
      "id": "222d0ba5",
      "metadata": {
        "id": "222d0ba5"
      },
      "outputs": [],
      "source": [
        "#Data Structure"
      ]
    },
    {
      "cell_type": "code",
      "execution_count": null,
      "id": "3d4eeb65",
      "metadata": {
        "id": "3d4eeb65"
      },
      "outputs": [],
      "source": [
        "p = [34,765,34,7,56,3475,2,34,654,43,6,42,3454]"
      ]
    },
    {
      "cell_type": "code",
      "execution_count": null,
      "id": "1b98ce32",
      "metadata": {
        "id": "1b98ce32",
        "outputId": "e2ba5b04-fbe3-4ffb-d4f4-273fb4d2835f"
      },
      "outputs": [
        {
          "data": {
            "text/plain": [
              "(34, 765, 34, 7, 56, 3475, 2, 34, 654, 43, 6, 42, 3454)"
            ]
          },
          "execution_count": 21,
          "metadata": {},
          "output_type": "execute_result"
        }
      ],
      "source": [
        "tuple(p)"
      ]
    },
    {
      "cell_type": "code",
      "execution_count": null,
      "id": "43f73f1e",
      "metadata": {
        "id": "43f73f1e"
      },
      "outputs": [],
      "source": [
        "p = (1,2,4)"
      ]
    },
    {
      "cell_type": "code",
      "execution_count": null,
      "id": "2e1cc06d",
      "metadata": {
        "id": "2e1cc06d",
        "outputId": "ceedb605-cb28-428e-c67c-0a426a5e3d1a"
      },
      "outputs": [
        {
          "data": {
            "text/plain": [
              "[1, 2, 4]"
            ]
          },
          "execution_count": 23,
          "metadata": {},
          "output_type": "execute_result"
        }
      ],
      "source": [
        "type(p)"
      ]
    },
    {
      "cell_type": "code",
      "execution_count": null,
      "id": "68b61262",
      "metadata": {
        "id": "68b61262",
        "outputId": "f09d72c1-14ad-45f9-917d-bfe1678dafae"
      },
      "outputs": [
        {
          "data": {
            "text/plain": [
              "(1, 2, 4)"
            ]
          },
          "execution_count": 24,
          "metadata": {},
          "output_type": "execute_result"
        }
      ],
      "source": [
        "p"
      ]
    },
    {
      "cell_type": "code",
      "execution_count": null,
      "id": "0d7461aa",
      "metadata": {
        "id": "0d7461aa"
      },
      "outputs": [],
      "source": [
        "p = list(p)"
      ]
    },
    {
      "cell_type": "code",
      "execution_count": null,
      "id": "272daf88",
      "metadata": {
        "id": "272daf88"
      },
      "outputs": [],
      "source": [
        "p.append(5)"
      ]
    },
    {
      "cell_type": "code",
      "execution_count": null,
      "id": "63f2b613",
      "metadata": {
        "id": "63f2b613"
      },
      "outputs": [],
      "source": [
        "p = tuple(p)"
      ]
    },
    {
      "cell_type": "code",
      "execution_count": null,
      "id": "17edd11e",
      "metadata": {
        "id": "17edd11e",
        "outputId": "e5ddfb12-f17a-4865-f5da-b0ee5cabf6b3"
      },
      "outputs": [
        {
          "data": {
            "text/plain": [
              "(1, 2, 4, 5)"
            ]
          },
          "execution_count": 31,
          "metadata": {},
          "output_type": "execute_result"
        }
      ],
      "source": [
        "p"
      ]
    },
    {
      "cell_type": "code",
      "execution_count": null,
      "id": "d72bf557",
      "metadata": {
        "id": "d72bf557"
      },
      "outputs": [],
      "source": [
        "p = [23,7,2,3,76,34,6,54,21,5,45,56,2,3,65,6]"
      ]
    },
    {
      "cell_type": "code",
      "execution_count": null,
      "id": "c019d2dc",
      "metadata": {
        "id": "c019d2dc"
      },
      "outputs": [],
      "source": [
        "p = list(set(p))"
      ]
    },
    {
      "cell_type": "code",
      "execution_count": null,
      "id": "56f5cf0d",
      "metadata": {
        "id": "56f5cf0d",
        "outputId": "66f5b52b-28a8-4422-b7a1-7bab9538aef1"
      },
      "outputs": [
        {
          "data": {
            "text/plain": [
              "[65, 2, 3, 34, 5, 6, 7, 76, 45, 21, 54, 23, 56]"
            ]
          },
          "execution_count": 36,
          "metadata": {},
          "output_type": "execute_result"
        }
      ],
      "source": [
        "p"
      ]
    },
    {
      "cell_type": "code",
      "execution_count": null,
      "id": "8a8fc2bd",
      "metadata": {
        "id": "8a8fc2bd"
      },
      "outputs": [],
      "source": [
        "d = {'a':100,'b':200,'c':300}"
      ]
    },
    {
      "cell_type": "code",
      "execution_count": null,
      "id": "b74f53f8",
      "metadata": {
        "id": "b74f53f8",
        "outputId": "405fd822-f827-4206-82ae-34066b60e5c5"
      },
      "outputs": [
        {
          "data": {
            "text/plain": [
              "{'a': 100, 'b': 200, 'c': 300}"
            ]
          },
          "execution_count": 38,
          "metadata": {},
          "output_type": "execute_result"
        }
      ],
      "source": [
        "d"
      ]
    },
    {
      "cell_type": "code",
      "execution_count": null,
      "id": "e8a8704d",
      "metadata": {
        "id": "e8a8704d",
        "outputId": "56732e16-56ec-4eb1-e629-81e0db3cb5ca"
      },
      "outputs": [
        {
          "data": {
            "text/plain": [
              "['a', 'b', 'c']"
            ]
          },
          "execution_count": 39,
          "metadata": {},
          "output_type": "execute_result"
        }
      ],
      "source": [
        "list(d)"
      ]
    },
    {
      "cell_type": "code",
      "execution_count": null,
      "id": "f9fb7740",
      "metadata": {
        "id": "f9fb7740",
        "outputId": "ccb0f062-7404-49f4-d22a-45fd4382ae15"
      },
      "outputs": [
        {
          "data": {
            "text/plain": [
              "[100, 200, 300]"
            ]
          },
          "execution_count": 40,
          "metadata": {},
          "output_type": "execute_result"
        }
      ],
      "source": [
        "list(d.values())"
      ]
    },
    {
      "cell_type": "code",
      "execution_count": null,
      "id": "a99d3438",
      "metadata": {
        "id": "a99d3438",
        "outputId": "73f634df-261e-41b1-d445-0e869e370d90"
      },
      "outputs": [
        {
          "data": {
            "text/plain": [
              "[('a', 100), ('b', 200), ('c', 300)]"
            ]
          },
          "execution_count": 41,
          "metadata": {},
          "output_type": "execute_result"
        }
      ],
      "source": [
        "list(d.items())"
      ]
    },
    {
      "cell_type": "code",
      "execution_count": null,
      "id": "0d872156",
      "metadata": {
        "id": "0d872156"
      },
      "outputs": [],
      "source": [
        "1.interview"
      ]
    },
    {
      "cell_type": "code",
      "execution_count": null,
      "id": "2cde000d",
      "metadata": {
        "id": "2cde000d"
      },
      "outputs": [],
      "source": [
        "p =[34,6,32,46,45,3,46,454,]"
      ]
    },
    {
      "cell_type": "code",
      "execution_count": null,
      "id": "b34219b3",
      "metadata": {
        "id": "b34219b3"
      },
      "outputs": [],
      "source": [
        "p.sort()"
      ]
    },
    {
      "cell_type": "code",
      "execution_count": null,
      "id": "842e23a4",
      "metadata": {
        "id": "842e23a4",
        "outputId": "8ac343e0-e86d-4439-c28d-a2cfe5eee8d6"
      },
      "outputs": [
        {
          "data": {
            "text/plain": [
              "[3, 6, 32, 34, 45, 46, 46, 454]"
            ]
          },
          "execution_count": 44,
          "metadata": {},
          "output_type": "execute_result"
        }
      ],
      "source": [
        "p"
      ]
    },
    {
      "cell_type": "code",
      "execution_count": null,
      "id": "7d091f19",
      "metadata": {
        "id": "7d091f19"
      },
      "outputs": [],
      "source": [
        "logic - custom for loop conditional statement"
      ]
    }
  ],
  "metadata": {
    "colab": {
      "provenance": []
    },
    "kernelspec": {
      "display_name": "Python 3",
      "language": "python",
      "name": "python3"
    },
    "language_info": {
      "codemirror_mode": {
        "name": "ipython",
        "version": 3
      },
      "file_extension": ".py",
      "mimetype": "text/x-python",
      "name": "python",
      "nbconvert_exporter": "python",
      "pygments_lexer": "ipython3",
      "version": "3.8.8"
    }
  },
  "nbformat": 4,
  "nbformat_minor": 5
}

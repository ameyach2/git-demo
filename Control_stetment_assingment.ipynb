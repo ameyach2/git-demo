{
 "cells": [
  {
   "cell_type": "code",
   "execution_count": null,
   "id": "5faab09c-d0f3-44e6-8fa2-d2e7cf29648c",
   "metadata": {},
   "outputs": [],
   "source": [
    "1.WAP to chake even or odd"
   ]
  },
  {
   "cell_type": "code",
   "execution_count": null,
   "id": "5167cbcc-182f-40ea-a555-2e700635bae1",
   "metadata": {},
   "outputs": [],
   "source": [
    "# Simple method:"
   ]
  },
  {
   "cell_type": "code",
   "execution_count": 37,
   "id": "f12e1eb2-f469-45d3-922e-225f81186743",
   "metadata": {},
   "outputs": [
    {
     "name": "stdout",
     "output_type": "stream",
     "text": [
      "Is a odd number\n"
     ]
    }
   ],
   "source": [
    "a = int(21)\n",
    "if a%2==0:\n",
    "    print(\"Is a even number\")\n",
    "else:\n",
    "    print(\"Is a odd number\")"
   ]
  },
  {
   "cell_type": "code",
   "execution_count": null,
   "id": "8fcd7095-dd90-4bcc-b139-4194115dc4c9",
   "metadata": {},
   "outputs": [],
   "source": [
    "# Input method:"
   ]
  },
  {
   "cell_type": "code",
   "execution_count": 25,
   "id": "9b933827-c577-47da-9426-9759815c0f83",
   "metadata": {},
   "outputs": [
    {
     "name": "stdin",
     "output_type": "stream",
     "text": [
      "Enter the number : 13\n"
     ]
    },
    {
     "name": "stdout",
     "output_type": "stream",
     "text": [
      "13 is number is odd\n"
     ]
    }
   ],
   "source": [
    "num = int(input(\"Enter the number :\"))\n",
    "if num%2==0:\n",
    "    print(\"{} is number is even \".format(num))\n",
    "else:\n",
    "    print(\"{} is number is odd\".format(num))"
   ]
  },
  {
   "cell_type": "code",
   "execution_count": 31,
   "id": "f8be3d36-8850-4989-993e-f04e933a3768",
   "metadata": {},
   "outputs": [
    {
     "name": "stdin",
     "output_type": "stream",
     "text": [
      " Enter the number: 10\n"
     ]
    },
    {
     "name": "stdout",
     "output_type": "stream",
     "text": [
      "10 is a even number \n"
     ]
    }
   ],
   "source": [
    "no = int(input(\" Enter the number:\"))\n",
    "if no%2==0:\n",
    "    print(\"{} is a even number \".format(no))\n",
    "else:\n",
    "    print(\"{} is a odd number\".format(no))"
   ]
  },
  {
   "cell_type": "code",
   "execution_count": null,
   "id": "3d08d092-160e-43d9-ab4a-791ac14ca728",
   "metadata": {},
   "outputs": [],
   "source": []
  },
  {
   "cell_type": "code",
   "execution_count": null,
   "id": "be961403-fa60-4e3a-9ed9-2775a0117ae3",
   "metadata": {},
   "outputs": [],
   "source": [
    "2.WAP to possitive or nigative"
   ]
  },
  {
   "cell_type": "code",
   "execution_count": null,
   "id": "b4c0f064-5711-4446-9bb3-40c0aa1f3580",
   "metadata": {},
   "outputs": [],
   "source": [
    "#simpale method:"
   ]
  },
  {
   "cell_type": "code",
   "execution_count": 130,
   "id": "34c20ea0-72d9-420e-be42-30826914597d",
   "metadata": {},
   "outputs": [
    {
     "name": "stdout",
     "output_type": "stream",
     "text": [
      "is a positive number\n"
     ]
    }
   ],
   "source": [
    "no = int(10)\n",
    "if no>0:\n",
    "    print(\"is a positive number\")\n",
    "else:\n",
    "    print(\"is a negative number\")"
   ]
  },
  {
   "cell_type": "code",
   "execution_count": null,
   "id": "1bafbaea-4ead-45ce-b4ff-5e4071a1fb8d",
   "metadata": {},
   "outputs": [],
   "source": [
    "# Input method:"
   ]
  },
  {
   "cell_type": "code",
   "execution_count": 132,
   "id": "1a96435b-e4f2-4fca-b0f9-5fe34cc102cc",
   "metadata": {},
   "outputs": [
    {
     "name": "stdin",
     "output_type": "stream",
     "text": [
      "Enter the nubmer : 10\n"
     ]
    },
    {
     "name": "stdout",
     "output_type": "stream",
     "text": [
      "10 is number is Positive\n"
     ]
    }
   ],
   "source": [
    "no = int(input(\"Enter the nubmer :\"))\n",
    "if no>0:\n",
    "    print(\"{} is number is Positive\".format(no))\n",
    "else:\n",
    "    print(\"{} is number is Nigative\".format(no))"
   ]
  },
  {
   "cell_type": "code",
   "execution_count": 134,
   "id": "f8b2db74-2b84-43bb-9d88-0cf101595de6",
   "metadata": {},
   "outputs": [
    {
     "name": "stdin",
     "output_type": "stream",
     "text": [
      "Enter the number : 2\n"
     ]
    },
    {
     "name": "stdout",
     "output_type": "stream",
     "text": [
      "2 is number is Positive\n"
     ]
    }
   ],
   "source": [
    "no = int(input(\"Enter the number :\"))\n",
    "if no>0:\n",
    "    print(\"{} is number is Positive\".format(no))\n",
    "else:\n",
    "    print(\"{} is number is Nigative\".format(no))"
   ]
  },
  {
   "cell_type": "code",
   "execution_count": 128,
   "id": "968c9676-2e78-4b09-908e-82890e5c0103",
   "metadata": {},
   "outputs": [
    {
     "name": "stdin",
     "output_type": "stream",
     "text": [
      "Enter the number : 0\n"
     ]
    },
    {
     "name": "stdout",
     "output_type": "stream",
     "text": [
      "Zero\n"
     ]
    }
   ],
   "source": [
    "no = int(input(\"Enter the number :\"))\n",
    "if no>0:\n",
    "    print(\"{} number is Positive\".format(no))\n",
    "elif no==0:\n",
    "    print(\"Zero\")\n",
    "else:\n",
    "    print(\"{} number is Nigative\".format(no))"
   ]
  },
  {
   "cell_type": "code",
   "execution_count": 140,
   "id": "2f4fa7b3-1df2-41bf-a2c6-a16607da48ab",
   "metadata": {},
   "outputs": [
    {
     "name": "stdin",
     "output_type": "stream",
     "text": [
      "Enter the number : 0\n"
     ]
    },
    {
     "name": "stdout",
     "output_type": "stream",
     "text": [
      "zero\n"
     ]
    }
   ],
   "source": [
    "aniket = int(input(\"Enter the number :\"))\n",
    "if aniket>0:\n",
    "    print(\"{} is number is positive\".format(aniket))\n",
    "elif aniket==0:\n",
    "    print(\"zero\")\n",
    "else:\n",
    "    print(\"{} is number is nigative\".format(aniket))"
   ]
  },
  {
   "cell_type": "code",
   "execution_count": null,
   "id": "47a9a8e0-4bfa-47b3-8396-180301bc1e93",
   "metadata": {},
   "outputs": [],
   "source": []
  },
  {
   "cell_type": "code",
   "execution_count": null,
   "id": "a058cac8-8bcc-4cfa-a4fd-f22b321db8f5",
   "metadata": {},
   "outputs": [],
   "source": [
    "3.WAP to cheke given string are palindrome"
   ]
  },
  {
   "cell_type": "code",
   "execution_count": null,
   "id": "e985b678-23a1-43f3-b883-e7db4d3b4733",
   "metadata": {},
   "outputs": [],
   "source": [
    "# Simple method"
   ]
  },
  {
   "cell_type": "code",
   "execution_count": 164,
   "id": "595c2602-146f-4a59-8b82-d6ee21c0368f",
   "metadata": {},
   "outputs": [
    {
     "name": "stdout",
     "output_type": "stream",
     "text": [
      "is are not palidrome\n"
     ]
    }
   ],
   "source": [
    "a = \"RAW\"\n",
    "reverse = a[::-1]\n",
    "if (a == reverse):\n",
    "    print(\"is are palindrome\")\n",
    "else:\n",
    "    print(\"is are not palidrome\")"
   ]
  },
  {
   "cell_type": "code",
   "execution_count": null,
   "id": "3b9ffe75-42c3-4515-8977-1e8d256cf5e6",
   "metadata": {},
   "outputs": [],
   "source": [
    "# Input method:"
   ]
  },
  {
   "cell_type": "code",
   "execution_count": 168,
   "id": "9b7dd0b4-9cde-4eee-9067-a5aa5396cd3e",
   "metadata": {},
   "outputs": [
    {
     "name": "stdin",
     "output_type": "stream",
     "text": [
      "Enter the String: 100\n"
     ]
    },
    {
     "name": "stdout",
     "output_type": "stream",
     "text": [
      "100 is not palindrome number\n"
     ]
    }
   ],
   "source": [
    "num = input(\"Enter the String:\")\n",
    "reverse = num[::-1]\n",
    "if(num == reverse):\n",
    "    print(\"{} is palindrome number\".format(num))\n",
    "else:\n",
    "    print(\"{} is not palindrome number\".format(num))"
   ]
  },
  {
   "cell_type": "code",
   "execution_count": 174,
   "id": "ac316394-c92d-4823-a53f-73873259d276",
   "metadata": {},
   "outputs": [
    {
     "name": "stdin",
     "output_type": "stream",
     "text": [
      "Enter the string : 12312\n"
     ]
    },
    {
     "name": "stdout",
     "output_type": "stream",
     "text": [
      "12312 is not palindrome number\n"
     ]
    }
   ],
   "source": [
    "sam = input(\"Enter the string :\")\n",
    "i = sam[::-1]\n",
    "if (sam==i):\n",
    "    print(\"{} is palindrome number\".format(sam))\n",
    "else:\n",
    "    print(\"{} is not palindrome number\".format(sam))"
   ]
  },
  {
   "cell_type": "code",
   "execution_count": 176,
   "id": "df2df5a9-63ec-432d-a1b6-35983630e3d9",
   "metadata": {},
   "outputs": [
    {
     "name": "stdin",
     "output_type": "stream",
     "text": [
      "Enter the number: 111\n"
     ]
    },
    {
     "name": "stdout",
     "output_type": "stream",
     "text": [
      "palindrome\n"
     ]
    }
   ],
   "source": [
    "s = input(\"Enter the number:\")\n",
    "a = s[::-1]\n",
    "if (s==a):\n",
    "    print(\"palindrome\")\n",
    "else:\n",
    "    print(\"not palindrome\")"
   ]
  },
  {
   "cell_type": "code",
   "execution_count": null,
   "id": "ff2af2ea-28e2-4aa9-8fb5-7501d54092e4",
   "metadata": {},
   "outputs": [],
   "source": []
  },
  {
   "cell_type": "code",
   "execution_count": null,
   "id": "39cafe34-db17-4fc9-91ed-585123993407",
   "metadata": {},
   "outputs": [],
   "source": [
    "4.WAP age validation:\n",
    "        18<no:"
   ]
  },
  {
   "cell_type": "code",
   "execution_count": null,
   "id": "e039c939-c160-4c2f-adc9-eac347f82866",
   "metadata": {},
   "outputs": [],
   "source": [
    "# Simple method:"
   ]
  },
  {
   "cell_type": "code",
   "execution_count": 182,
   "id": "a0d17b2e-4504-429d-8119-e350fe9ad471",
   "metadata": {},
   "outputs": [
    {
     "name": "stdout",
     "output_type": "stream",
     "text": [
      "You age is 18+++, Thank you\n"
     ]
    }
   ],
   "source": [
    "age = int(100)\n",
    "if age>=18:\n",
    "    print(\"You age is 18+++, Thank you\")\n",
    "else:\n",
    "    print(\"your age is 18--, Thank you\")"
   ]
  },
  {
   "cell_type": "code",
   "execution_count": null,
   "id": "1ba28bc6-0c20-4c15-b76c-765674115123",
   "metadata": {},
   "outputs": [],
   "source": [
    "# Input method:"
   ]
  },
  {
   "cell_type": "code",
   "execution_count": 196,
   "id": "230fcf89-0591-4c4d-a175-c1415de92d86",
   "metadata": {},
   "outputs": [
    {
     "name": "stdin",
     "output_type": "stream",
     "text": [
      "Enter the age : 22\n"
     ]
    },
    {
     "name": "stdout",
     "output_type": "stream",
     "text": [
      "your age 22 you are under 50\n"
     ]
    }
   ],
   "source": [
    "age = int(input(\"Enter the age :\"))\n",
    "if age>18:\n",
    "    print(\"your age {} you are under 50\".format(age))\n",
    "else:\n",
    "    print(\"your age {} you are under 18\".format(age))"
   ]
  },
  {
   "cell_type": "code",
   "execution_count": null,
   "id": "d82acc6f-b2ea-456c-8d79-c5e1f58435d3",
   "metadata": {},
   "outputs": [],
   "source": []
  },
  {
   "cell_type": "code",
   "execution_count": null,
   "id": "0050075e-e745-48b3-b6f2-715ec22c2053",
   "metadata": {},
   "outputs": [],
   "source": [
    "5.nestd if-else:"
   ]
  },
  {
   "cell_type": "code",
   "execution_count": null,
   "id": "7040f40a-0e9d-421e-9ddb-e99f0767aac3",
   "metadata": {},
   "outputs": [],
   "source": [
    "filename = input(\"Enter the filename:\")\n",
    "fileformate = input(\"Enter the fileformate\")\n",
    "if filename == \"copper\":\n",
    "    if fileformate == \".pdf\":\n",
    "        print(\"{} is processing..\".format(filename+fileformate))\n",
    "    elif fileformate == \".csv\":\n",
    "        print(\"{} is processing..\".format(filename+fileformate))\n",
    "    elif fileformate == \".exle\":\n",
    "        print(\"{} is processing..\".format(filename+fileformate))\n",
    "else:\n",
    "    print(\"thak you\")\n",
    "if filename == \"silver\":\n",
    "    if fileformate == \".pdf\":\n",
    "        print(\"{} is processing..\".format(filename+fileformate))\n",
    "    elif fileformate == \".csv\":\n",
    "        print(\"{} is processing..\".format(filename+fileformate))\n",
    "    elif fileformate == \".exle\":\n",
    "        print(\"{} is processing..\".format(filename+fileformate))\n",
    "else:\n",
    "    print(\"thak you\")\n",
    "if filename == \"copper\":\n",
    "    if fileformate == \".gold\":\n",
    "        print(\"{} is processing..\".format(filename+fileformate))\n",
    "    elif fileformate == \".csv\":\n",
    "        print(\"{} is processing..\".format(filename+fileformate))\n",
    "    elif fileformate == \".exle\":\n",
    "        print(\"{} is processing..\".format(filename+fileformate))\n",
    "else:\n",
    "    print(\"thak you\")"
   ]
  },
  {
   "cell_type": "code",
   "execution_count": null,
   "id": "c7db4306-c417-4f63-b8a3-1ecbf257c2fc",
   "metadata": {},
   "outputs": [],
   "source": []
  },
  {
   "cell_type": "code",
   "execution_count": null,
   "id": "00b1b483-369e-44ed-9acd-becba2ccab1a",
   "metadata": {},
   "outputs": [],
   "source": []
  },
  {
   "cell_type": "code",
   "execution_count": null,
   "id": "43018ce2-d283-4779-914f-1a233ee5d4c2",
   "metadata": {},
   "outputs": [],
   "source": []
  },
  {
   "cell_type": "code",
   "execution_count": null,
   "id": "8182a92b-3964-417b-a678-e595ab3e9651",
   "metadata": {},
   "outputs": [],
   "source": []
  },
  {
   "cell_type": "code",
   "execution_count": null,
   "id": "e3513fc7-7f46-46df-b98f-e36935365da8",
   "metadata": {},
   "outputs": [],
   "source": []
  },
  {
   "cell_type": "code",
   "execution_count": null,
   "id": "f404aa5f-739b-441b-858c-f911a45a2759",
   "metadata": {},
   "outputs": [],
   "source": []
  },
  {
   "cell_type": "code",
   "execution_count": null,
   "id": "2578a954-c341-4552-9f5a-0f2c074973fd",
   "metadata": {},
   "outputs": [],
   "source": []
  },
  {
   "cell_type": "code",
   "execution_count": null,
   "id": "94f5b2b1-85bf-4dd6-84c9-4372eec1e53d",
   "metadata": {},
   "outputs": [],
   "source": []
  },
  {
   "cell_type": "code",
   "execution_count": null,
   "id": "c15cde3e-1678-474a-bd7b-a68299ee2437",
   "metadata": {},
   "outputs": [],
   "source": []
  },
  {
   "cell_type": "code",
   "execution_count": null,
   "id": "2d2546dc-2be1-43fa-a61f-38cc5b365a5d",
   "metadata": {},
   "outputs": [],
   "source": []
  },
  {
   "cell_type": "code",
   "execution_count": null,
   "id": "52afea27-8561-45a6-a8de-8efdfc4d8ae2",
   "metadata": {},
   "outputs": [],
   "source": []
  },
  {
   "cell_type": "code",
   "execution_count": null,
   "id": "395e34a7-e6ed-4a70-90a8-90adf3411750",
   "metadata": {},
   "outputs": [],
   "source": []
  },
  {
   "cell_type": "code",
   "execution_count": null,
   "id": "90fee7bf-81fd-4c55-8d7e-d3c71ceab0e8",
   "metadata": {},
   "outputs": [],
   "source": []
  },
  {
   "cell_type": "code",
   "execution_count": null,
   "id": "b745af3a-9e03-4af5-95e8-40780a2f8597",
   "metadata": {},
   "outputs": [],
   "source": []
  },
  {
   "cell_type": "code",
   "execution_count": null,
   "id": "ef5c603b-4257-49b9-876a-3d95c43fc006",
   "metadata": {},
   "outputs": [],
   "source": []
  },
  {
   "cell_type": "code",
   "execution_count": null,
   "id": "92ad18fd-69f0-4eaf-88af-91d3307b4335",
   "metadata": {},
   "outputs": [],
   "source": []
  },
  {
   "cell_type": "code",
   "execution_count": null,
   "id": "52378055-08f9-4ea2-b2ac-69bc74c98644",
   "metadata": {},
   "outputs": [],
   "source": []
  },
  {
   "cell_type": "code",
   "execution_count": null,
   "id": "bef558bf-0efb-4fec-9333-b71981c4bc88",
   "metadata": {},
   "outputs": [],
   "source": []
  },
  {
   "cell_type": "code",
   "execution_count": null,
   "id": "88d0300f-6bb7-4f19-94f3-b988a7433b4b",
   "metadata": {},
   "outputs": [],
   "source": [
    "1"
   ]
  }
 ],
 "metadata": {
  "kernelspec": {
   "display_name": "Python 3 (ipykernel)",
   "language": "python",
   "name": "python3"
  },
  "language_info": {
   "codemirror_mode": {
    "name": "ipython",
    "version": 3
   },
   "file_extension": ".py",
   "mimetype": "text/x-python",
   "name": "python",
   "nbconvert_exporter": "python",
   "pygments_lexer": "ipython3",
   "version": "3.11.7"
  }
 },
 "nbformat": 4,
 "nbformat_minor": 5
}
